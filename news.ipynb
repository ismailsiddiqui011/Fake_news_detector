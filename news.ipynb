{
 "cells": [
  {
   "cell_type": "markdown",
   "metadata": {},
   "source": [
    "# Describtion\n",
    "### Do you trust all the news you hear from social media? All news are not real, right? So how will you detect the fake news? The answer is ML. By practicing this advanced ML project of detecting fake news, you will easily make a difference between real and fake news. Before moving ahead in this advanced ML project, get aware of the terms related to it like fake news, tfidfvectorizer, PassiveAggressive Classifier."
   ]
  },
  {
   "cell_type": "markdown",
   "metadata": {},
   "source": [
    "# Columns :\n",
    "### Title: The title of the article\n",
    "### Text: The text of the article\n",
    "### Subject: The subject of the article\n",
    "### Date: The date at which the article was posted"
   ]
  },
  {
   "cell_type": "markdown",
   "metadata": {},
   "source": [
    "# Problem Statemtent\n",
    "### We will use these news record to detect if news is fake or real."
   ]
  },
  {
   "cell_type": "markdown",
   "metadata": {},
   "source": [
    "# Constraints:\n",
    "### The cost of a mis-classification can be high, it can cause chaos.\n",
    "\n",
    "# Benefits:\n",
    "### Can prevent misleading information that can cause political problems."
   ]
  },
  {
   "cell_type": "markdown",
   "metadata": {},
   "source": [
    "## Importing Liabraries"
   ]
  },
  {
   "cell_type": "code",
   "execution_count": 50,
   "metadata": {},
   "outputs": [],
   "source": [
    "import numpy as np\n",
    "import pandas as pd\n",
    "from sklearn.model_selection import train_test_split, GridSearchCV\n",
    "from sklearn.feature_extraction.text import TfidfVectorizer\n",
    "from sklearn.linear_model import PassiveAggressiveClassifier\n",
    "from sklearn.metrics import accuracy_score, confusion_matrix\n",
    "from sklearn.naive_bayes import GaussianNB\n",
    "from sklearn.linear_model import LogisticRegression\n",
    "from sklearn.neighbors import KNeighborsClassifier"
   ]
  },
  {
   "cell_type": "markdown",
   "metadata": {},
   "source": [
    "## Loading dataset"
   ]
  },
  {
   "cell_type": "code",
   "execution_count": 19,
   "metadata": {},
   "outputs": [],
   "source": [
    "fake_test = pd.read_csv('Fake.csv')\n",
    "fake_test['label'] = 0 #Adding label: 0  to fake news\n",
    "fake_test = fake_test[['text', 'label']]"
   ]
  },
  {
   "cell_type": "code",
   "execution_count": 20,
   "metadata": {},
   "outputs": [],
   "source": [
    "true_test = pd.read_csv('True.csv')\n",
    "true_test['label'] = 1 #Adding label: 1  to real news\n",
    "true_test = true_test[['text', 'label']]"
   ]
  },
  {
   "cell_type": "code",
   "execution_count": 21,
   "metadata": {},
   "outputs": [],
   "source": [
    "data = pd.concat([true_test, fake_test])\n",
    "data = data.sample(frac = 1) "
   ]
  },
  {
   "cell_type": "markdown",
   "metadata": {},
   "source": [
    "## Performing simple EDA"
   ]
  },
  {
   "cell_type": "code",
   "execution_count": 22,
   "metadata": {},
   "outputs": [
    {
     "data": {
      "text/plain": [
       "Index(['text', 'label'], dtype='object')"
      ]
     },
     "execution_count": 22,
     "metadata": {},
     "output_type": "execute_result"
    }
   ],
   "source": [
    "data.columns #Checking columns"
   ]
  },
  {
   "cell_type": "code",
   "execution_count": 23,
   "metadata": {},
   "outputs": [
    {
     "data": {
      "text/plain": [
       "text     0\n",
       "label    0\n",
       "dtype: int64"
      ]
     },
     "execution_count": 23,
     "metadata": {},
     "output_type": "execute_result"
    }
   ],
   "source": [
    "data.isnull().sum() #Checking for null values"
   ]
  },
  {
   "cell_type": "markdown",
   "metadata": {},
   "source": [
    "## To solve this problem we will focus on Text and Label columns"
   ]
  },
  {
   "cell_type": "code",
   "execution_count": 27,
   "metadata": {},
   "outputs": [],
   "source": [
    "X = data.text \n",
    "y = data.label\n",
    "X_train, X_test, y_train, y_test = train_test_split(X, y, train_size = 0.30, random_state = 100)\n",
    "X_cv, X_test, y_cv, y_test = tts(X_train, y_train, train_size = 0.30, random_state = 100)"
   ]
  },
  {
   "cell_type": "code",
   "execution_count": null,
   "metadata": {},
   "outputs": [],
   "source": [
    "tfidf_vectorizer = TfidfVectorizer(stop_words = 'english', max_df = 0.7) # Creating tfidf object\n",
    "tfidf_train = tfidf_vectorizer.fit_transform(X_train) #Converting Text to tfidf vectors\n",
    "tfidf_cv = tfidf_vectorizer.transform(X_cv)\n",
    "tfidf_test = tfidf_vectorizer.transform(X_test)"
   ]
  },
  {
   "cell_type": "markdown",
   "metadata": {},
   "source": [
    "## Using PassiveAggressiveClassifier"
   ]
  },
  {
   "cell_type": "code",
   "execution_count": 42,
   "metadata": {},
   "outputs": [
    {
     "name": "stdout",
     "output_type": "stream",
     "text": [
      "Accuracy: 99.97524752475248%\n",
      "[[2120    0]\n",
      " [   1 1919]]\n"
     ]
    }
   ],
   "source": [
    "pac = PassiveAggressiveClassifier(max_iter = 50)\n",
    "pac.fit(tfidf_train, y_train)\n",
    "cv_pred = pac.predict(tfidf_cv)\n",
    "score = accuracy_score(y_cv, cv_pred)\n",
    "print(f'Accuracy: {(score*100)}%')\n",
    "print(confusion_matrix(y_cv, cv_pred))"
   ]
  },
  {
   "cell_type": "code",
   "execution_count": 26,
   "metadata": {},
   "outputs": [
    {
     "name": "stdout",
     "output_type": "stream",
     "text": [
      "Accuracy: 100.0%\n",
      "[[4956    0]\n",
      " [   0 4473]]\n"
     ]
    }
   ],
   "source": [
    "test_pred = pac.predict(tfidf_test)\n",
    "score = accuracy_score(y_test, test_pred)\n",
    "print(f'Accuracy: {(score*100)}%')\n",
    "print(confusion_matrix(y_test, test_pred))"
   ]
  },
  {
   "cell_type": "markdown",
   "metadata": {},
   "source": [
    "## Using Logistic Reggression"
   ]
  },
  {
   "cell_type": "code",
   "execution_count": 46,
   "metadata": {},
   "outputs": [
    {
     "name": "stdout",
     "output_type": "stream",
     "text": [
      "Accuracy: 98.8118811881188%\n",
      "[[2098   22]\n",
      " [  26 1894]]\n",
      "Accuracy: 98.72733057588292%\n",
      "[[4880   76]\n",
      " [  44 4429]]\n"
     ]
    }
   ],
   "source": [
    "lr = LogisticRegression()\n",
    "lr.fit(tfidf_train, y_train)\n",
    "\n",
    "cv_pred = lr.predict(tfidf_cv)\n",
    "score = accuracy_score(y_cv, cv_pred)\n",
    "print(f'Accuracy: {(score*100)}%')\n",
    "print(confusion_matrix(y_cv, cv_pred))\n",
    "\n",
    "test_pred = lr.predict(tfidf_test)\n",
    "score = accuracy_score(y_test, test_pred)\n",
    "print(f'Accuracy: {(score*100)}%')\n",
    "print(confusion_matrix(y_test, test_pred))"
   ]
  },
  {
   "cell_type": "markdown",
   "metadata": {},
   "source": [
    "## Using KNN"
   ]
  },
  {
   "cell_type": "code",
   "execution_count": 51,
   "metadata": {},
   "outputs": [],
   "source": [
    "k = []\n",
    "for n in range(1, 30, 2):\n",
    "    k.append(n)"
   ]
  },
  {
   "cell_type": "code",
   "execution_count": 52,
   "metadata": {},
   "outputs": [
    {
     "data": {
      "text/plain": [
       "{'n_neighbors': [1, 3, 5, 7, 9, 11, 13, 15, 17, 19, 21, 23, 25, 27, 29]}"
      ]
     },
     "execution_count": 52,
     "metadata": {},
     "output_type": "execute_result"
    }
   ],
   "source": [
    "k = {'n_neighbors': k}\n",
    "k"
   ]
  },
  {
   "cell_type": "code",
   "execution_count": null,
   "metadata": {},
   "outputs": [],
   "source": [
    "grid = GridSearchCV(KNeighborsClassifier(), param_grid = k, scoring = 'accuracy', refit = True, cv = 10)\n",
    "grid.fit(tfidf_train, y_train)\n",
    "cv_pred = grid.predict(tfidf_cv)"
   ]
  },
  {
   "cell_type": "code",
   "execution_count": 49,
   "metadata": {},
   "outputs": [
    {
     "name": "stdout",
     "output_type": "stream",
     "text": [
      "Accuracy:  99.97524752475248 K:  1\n",
      "[[2120    0]\n",
      " [   1 1919]]\n",
      "Accuracy:  68.8118811881188 K:  3\n",
      "[[2102   18]\n",
      " [1242  678]]\n",
      "Accuracy:  62.227722772277225 K:  5\n",
      "[[2105   15]\n",
      " [1511  409]]\n",
      "Accuracy:  59.65346534653465 K:  7\n",
      "[[2112    8]\n",
      " [1622  298]]\n",
      "Accuracy:  57.89603960396039 K:  9\n",
      "[[2112    8]\n",
      " [1693  227]]\n",
      "Accuracy:  56.78217821782178 K:  11\n",
      "[[2115    5]\n",
      " [1741  179]]\n",
      "Accuracy:  56.188118811881196 K:  13\n",
      "[[2116    4]\n",
      " [1766  154]]\n",
      "Accuracy:  55.693069306930695 K:  15\n",
      "[[2118    2]\n",
      " [1788  132]]\n",
      "Accuracy:  55.02475247524753 K:  17\n",
      "[[2118    2]\n",
      " [1815  105]]\n",
      "Accuracy:  54.579207920792086 K:  19\n",
      "[[2118    2]\n",
      " [1833   87]]\n",
      "Accuracy:  54.10891089108911 K:  21\n",
      "[[2118    2]\n",
      " [1852   68]]\n",
      "Accuracy:  53.83663366336634 K:  23\n",
      "[[2118    2]\n",
      " [1863   57]]\n",
      "Accuracy:  53.71287128712871 K:  25\n",
      "[[2118    2]\n",
      " [1868   52]]\n",
      "Accuracy:  53.490099009900995 K:  27\n",
      "[[2118    2]\n",
      " [1877   43]]\n",
      "Accuracy:  53.31683168316832 K:  29\n",
      "[[2118    2]\n",
      " [1884   36]]\n"
     ]
    }
   ],
   "source": [
    "    knn = KNeighborsClassifier(n_neighbors = k)\n",
    "    knn.fit(tfidf_train, y_train)\n",
    "    cv_pred = knn.predict(tfidf_cv)\n",
    "    score = accuracy_score(y_cv, cv_pred)\n",
    "    print('Accuracy: ',(score*100), 'K: ', k)\n",
    "    print(confusion_matrix(y_cv, cv_pred))"
   ]
  },
  {
   "cell_type": "code",
   "execution_count": 58,
   "metadata": {},
   "outputs": [
    {
     "name": "stdout",
     "output_type": "stream",
     "text": [
      "Accuracy: 62.05324000424223%\n",
      "[[4932   24]\n",
      " [3554  919]]\n"
     ]
    }
   ],
   "source": [
    "knn = KNeighborsClassifier(n_neighbors = 5)\n",
    "knn.fit(tfidf_train, y_train)\n",
    "test_pred = knn.predict(tfidf_test)\n",
    "score = accuracy_score(y_test, test_pred)\n",
    "print(f'Accuracy: {(score*100)}%')\n",
    "print(confusion_matrix(y_test, test_pred))"
   ]
  },
  {
   "cell_type": "code",
   "execution_count": null,
   "metadata": {},
   "outputs": [],
   "source": []
  },
  {
   "cell_type": "code",
   "execution_count": null,
   "metadata": {},
   "outputs": [],
   "source": []
  },
  {
   "cell_type": "code",
   "execution_count": null,
   "metadata": {},
   "outputs": [],
   "source": []
  }
 ],
 "metadata": {
  "kernelspec": {
   "display_name": "Python 3",
   "language": "python",
   "name": "python3"
  },
  "language_info": {
   "codemirror_mode": {
    "name": "ipython",
    "version": 3
   },
   "file_extension": ".py",
   "mimetype": "text/x-python",
   "name": "python",
   "nbconvert_exporter": "python",
   "pygments_lexer": "ipython3",
   "version": "3.8.3"
  }
 },
 "nbformat": 4,
 "nbformat_minor": 4
}
